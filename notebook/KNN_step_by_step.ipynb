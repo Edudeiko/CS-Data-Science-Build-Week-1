{
 "cells": [
  {
   "cell_type": "markdown",
   "metadata": {},
   "source": [
    "# K-Nearest step by step"
   ]
  },
  {
   "cell_type": "markdown",
   "metadata": {},
   "source": [
    "## Load dataset"
   ]
  },
  {
   "cell_type": "code",
   "execution_count": 33,
   "metadata": {},
   "outputs": [],
   "source": [
    "# I decided to go with the breast cancer dataset\n",
    "# https://www.kaggle.com/uciml/breast-cancer-wisconsin-data\n",
    "from sklearn.datasets import load_breast_cancer"
   ]
  },
  {
   "cell_type": "markdown",
   "metadata": {},
   "source": [
    "## Features and classes"
   ]
  },
  {
   "cell_type": "markdown",
   "metadata": {},
   "source": [
    "##### Features are computed from a digitized image of a fine needle aspirate of a breast mass. They describe characteristics of the cell nuclei present in the image.\n",
    "a) radius (mean of distances from center to points on the perimeter)\n",
    "\n",
    "b) texture (standard deviation of gray-scale values) \n",
    "\n",
    "c) perimeter \n",
    "\n",
    "d) area \n",
    "\n",
    "e) smoothness (local variation in radius lengths) \n",
    "\n",
    "f) compactness (perimeter^2 / area - 1.0) \n",
    "\n",
    "g) concavity (severity of concave portions of the contour)\n",
    "\n",
    "h) concave points (number of concave portions of the contour) \n",
    "\n",
    "i) symmetry \n",
    "\n",
    "j) fractal dimension (\"coastline approximation\" - 1)\n",
    "\n",
    "**The mean, standard error and \"worst\" or largest (mean of the three largest values) of these features were computed for each image, resulting in 30 features:**\n",
    "\n",
    "\n",
    "- 1 - mean radius\n",
    "- 2 - mean texture\n",
    "- 3 - mean perimeter\n",
    "- 4 - mean area\n",
    "- 5 - mean smoothness\n",
    "- 6 - mean compactness\n",
    "- 7 - mean concavity\n",
    "- 8 - mean concave points\n",
    "- 9 - mean symmetry\n",
    "- 10 - mean fractal dimension\n",
    "- 11 - radius error\n",
    "- 12 - texture error\n",
    "- 13 - perimeter error\n",
    "- 14 - area error\n",
    "- 15 - smoothness error\n",
    "- 16 - compactness error\n",
    "- 17 - concavity error\n",
    "- 18 - concave points error\n",
    "- 19 - symmetry error\n",
    "- 20 - fractal dimension error\n",
    "- 21 - worst radius\n",
    "- 22 - worst texture\n",
    "- 23 - worst perimeter\n",
    "- 24 - worst area\n",
    "- 25 - worst smoothness\n",
    "- 26 - worst compactness\n",
    "- 27 - worst concavity\n",
    "- 28 - worst concave points\n",
    "- 29 - worst symmetry\n",
    "- 30 - worst fractal dimension \n",
    "\n",
    "##### the diagnosis of breast tissues\n",
    "**2 classes:**\n",
    "- malignant\n",
    "- benign"
   ]
  },
  {
   "cell_type": "code",
   "execution_count": 34,
   "metadata": {},
   "outputs": [],
   "source": [
    "import numpy as np\n",
    "from math import sqrt"
   ]
  },
  {
   "cell_type": "code",
   "execution_count": 35,
   "metadata": {},
   "outputs": [],
   "source": [
    "df = load_breast_cancer()"
   ]
  },
  {
   "cell_type": "code",
   "execution_count": 36,
   "metadata": {},
   "outputs": [
    {
     "name": "stdout",
     "output_type": "stream",
     "text": [
      "CPU times: user 2 µs, sys: 0 ns, total: 2 µs\n",
      "Wall time: 5.01 µs\n",
      "* data\n",
      "* target\n",
      "* frame\n",
      "* target_names\n",
      "* DESCR\n",
      "* feature_names\n",
      "* filename\n"
     ]
    }
   ],
   "source": [
    "%time\n",
    "for ii in df:\n",
    "    print(f'* {ii}')"
   ]
  },
  {
   "cell_type": "code",
   "execution_count": 37,
   "metadata": {},
   "outputs": [
    {
     "data": {
      "text/plain": [
       "569"
      ]
     },
     "execution_count": 37,
     "metadata": {},
     "output_type": "execute_result"
    }
   ],
   "source": [
    "len(df['data'])"
   ]
  },
  {
   "cell_type": "markdown",
   "metadata": {},
   "source": [
    "## Save dataset"
   ]
  },
  {
   "cell_type": "markdown",
   "metadata": {},
   "source": [
    "### Make data assertion for each row and name it"
   ]
  },
  {
   "cell_type": "code",
   "execution_count": 275,
   "metadata": {},
   "outputs": [
    {
     "name": "stdout",
     "output_type": "stream",
     "text": [
      "CPU times: user 2 µs, sys: 1 µs, total: 3 µs\n",
      "Wall time: 5.01 µs\n"
     ]
    }
   ],
   "source": [
    "%time\n",
    "result = []\n",
    "\n",
    "class Features():\n",
    "    def __init__(self, mean_radius, mean_texture, mean_perimeter, mean_area):\n",
    "        self.mean_radius = mean_radius\n",
    "        self.mean_texture = mean_texture\n",
    "        self.mean_perimeter = mean_perimeter\n",
    "        self.mean_area = mean_area\n",
    "\n",
    "class Target():\n",
    "    def __init__(self, malignant, benign):\n",
    "        self.malignant = malignant\n",
    "        self.benign = benign\n",
    "\n",
    "def get_data(result=[]):\n",
    "    for ii, row in enumerate(df['data']):\n",
    "        result.append(Features(float(row[0]), float(row[1]), float(row[2]), float(row[3])))\n",
    "\n",
    "    return result\n"
   ]
  },
  {
   "cell_type": "code",
   "execution_count": 5,
   "metadata": {},
   "outputs": [],
   "source": [
    "# get_data(result)"
   ]
  },
  {
   "cell_type": "code",
   "execution_count": 5,
   "metadata": {},
   "outputs": [],
   "source": [
    "# for ii in result:\n",
    "#     print(f'{ii.mean_radius}, {ii.mean_texture}, {ii.mean_perimeter}, {ii.mean_area}')"
   ]
  },
  {
   "cell_type": "code",
   "execution_count": 6,
   "metadata": {},
   "outputs": [],
   "source": [
    "# f = [ii.mean_radius for ii in result]\n",
    "# print(f[0:10])"
   ]
  },
  {
   "cell_type": "markdown",
   "metadata": {},
   "source": [
    "### Save it all at once"
   ]
  },
  {
   "cell_type": "code",
   "execution_count": 38,
   "metadata": {},
   "outputs": [],
   "source": [
    "def load_result(filename):\n",
    "    dataset = list()\n",
    "    for row in filename:\n",
    "        dataset.append(row)\n",
    "    return dataset"
   ]
  },
  {
   "cell_type": "code",
   "execution_count": 39,
   "metadata": {},
   "outputs": [],
   "source": [
    "dataset = load_result(df['data'])\n",
    "target = df['target']"
   ]
  },
  {
   "cell_type": "code",
   "execution_count": 40,
   "metadata": {},
   "outputs": [
    {
     "data": {
      "text/plain": [
       "((569, 30), (569,))"
      ]
     },
     "execution_count": 40,
     "metadata": {},
     "output_type": "execute_result"
    }
   ],
   "source": [
    "df['data'].shape, df['target'].shape"
   ]
  },
  {
   "cell_type": "markdown",
   "metadata": {},
   "source": [
    "## Euclidean distance"
   ]
  },
  {
   "cell_type": "code",
   "execution_count": 9,
   "metadata": {},
   "outputs": [
    {
     "name": "stdout",
     "output_type": "stream",
     "text": [
      "0.0\n",
      "341.7302607881279\n",
      "376.4557635741612\n",
      "1584.3140157635034\n",
      "538.0234863184631\n",
      "1389.461236535576\n",
      "428.041732597929\n",
      "1206.344557271848\n",
      "1376.1220536818344\n",
      "1418.5515008505322\n",
      "902.1177215626052\n",
      "761.2762431627579\n",
      "699.8662696088983\n",
      "1171.5995153382696\n",
      "1396.2979857715009\n",
      "1137.6227084611908\n",
      "944.9283781695982\n",
      "741.0793227013862\n",
      "461.2989176634674\n",
      "1387.37489040781\n",
      "1479.1852945721914\n",
      "1862.8262471072378\n",
      "1086.9460681022042\n",
      "722.4338053522962\n",
      "225.4945073599691\n",
      "567.51495305413\n",
      "1186.8057810029843\n",
      "627.6224453196003\n",
      "805.6322220635398\n",
      "800.3079817252612\n",
      "364.4276663493809\n",
      "1269.1917629530653\n",
      "690.0700302943052\n",
      "276.8711744852204\n",
      "793.2868042158811\n",
      "810.0608616870776\n",
      "1282.5123621127418\n",
      "1558.5566151722846\n",
      "1358.5197939792315\n",
      "1362.2441204815075\n",
      "1316.677672917033\n",
      "1641.0924766134178\n",
      "385.91447082712995\n",
      "1210.5626322607775\n",
      "1371.8164577196696\n",
      "466.77341902211975\n",
      "1959.1877062291458\n",
      "1352.4763466195318\n",
      "1548.1181778945083\n",
      "1401.2177756637257\n",
      "1616.9791525212363\n",
      "1438.301725927894\n",
      "1604.395533109433\n",
      "702.7216545529241\n",
      "1040.194367437183\n",
      "1633.7869709439583\n",
      "204.1713020233508\n",
      "1097.8445254857588\n",
      "1481.7380432924601\n",
      "1920.0327613299708\n",
      "1797.1263441478475\n",
      "1921.1971086786975\n",
      "1123.7054614356978\n",
      "1871.7726668535038\n",
      "1245.6490410654512\n",
      "1152.1151843234923\n",
      "1850.2399610865561\n",
      "1676.4842861049603\n",
      "1863.072069817834\n",
      "1556.3108261956424\n",
      "209.5371181349048\n",
      "1902.0068195067493\n",
      "357.88082250147716\n",
      "1285.8275715043542\n",
      "1514.0195920933702\n",
      "822.4130060984335\n",
      "1489.2511367005054\n",
      "410.9734630000028\n",
      "467.7220522801848\n",
      "1491.3880566967398\n",
      "1618.8596338720806\n",
      "1493.9433283344217\n",
      "1033.8044529596302\n",
      "739.5225239462671\n",
      "1564.3983946532255\n",
      "430.2086916032572\n",
      "1268.4401465915298\n",
      "415.9573567213872\n",
      "1549.419430538222\n",
      "1271.9417591837214\n",
      "1270.2951867350055\n",
      "1228.0793684167643\n",
      "1279.0287068656803\n",
      "1402.066033390324\n",
      "1044.5328273115213\n",
      "383.55635909383426\n",
      "1629.0521678245154\n",
      "1807.3699702313331\n",
      "1627.1552709272335\n",
      "1254.4641824795265\n",
      "1196.8418683601326\n",
      "2035.5542945208394\n",
      "1578.1072949584038\n",
      "1810.7297769194086\n",
      "1756.9350635288806\n",
      "1289.85207316977\n",
      "1618.1459326486877\n",
      "1579.1542294011285\n",
      "613.387195763074\n",
      "1627.8965922194661\n",
      "1807.798396532731\n",
      "1588.9426922142973\n",
      "1369.7240859994847\n",
      "1784.1111741163197\n",
      "1908.4254225989594\n",
      "1551.4227521283103\n",
      "1915.217707766245\n",
      "985.8634609361435\n",
      "786.3316032906208\n",
      "766.9387157296745\n",
      "1632.8251135266166\n",
      "481.9776429136379\n",
      "767.4219700236897\n",
      "1332.6559031835448\n",
      "1467.3739663706617\n",
      "1367.112370873127\n",
      "1256.1745738888021\n",
      "506.78374297023913\n",
      "1305.732701816947\n",
      "481.00604648675494\n",
      "1580.9021686778071\n",
      "907.5293055915746\n",
      "874.4279326291507\n",
      "1131.4426755206562\n",
      "445.6919207392314\n",
      "1462.098579129682\n",
      "1589.8274429882779\n",
      "1679.060160993661\n",
      "1099.6250475193078\n",
      "1709.5373850192395\n",
      "1831.658664783981\n",
      "814.2535444140185\n",
      "1640.8797327390953\n",
      "1469.0874780703023\n",
      "1714.491490440287\n",
      "1621.5807925594038\n",
      "1545.4277336570392\n",
      "1256.708671201821\n",
      "1312.3502216438112\n",
      "1368.0880737576913\n",
      "1491.017123922414\n",
      "1951.271134433454\n",
      "1789.757616394615\n",
      "1705.211383337996\n",
      "1428.2626736792893\n",
      "1561.879838220151\n",
      "722.4426603584641\n",
      "1002.3904064275981\n",
      "1595.6325861365372\n",
      "1683.552597596959\n",
      "1593.3211716584703\n",
      "549.161308257843\n",
      "306.9675605209021\n",
      "1570.4009237888636\n",
      "787.991842283449\n",
      "1285.7110204842888\n",
      "1739.4495462845314\n",
      "774.553455348515\n",
      "362.570517457554\n",
      "1274.6150149062073\n",
      "1574.4993978060322\n",
      "1122.333145788169\n",
      "962.5575966329043\n",
      "1749.59123600102\n",
      "1746.9208668738565\n",
      "1933.097668520894\n",
      "1781.3252036543158\n",
      "1060.3565667554924\n",
      "1498.2312446841074\n",
      "1539.0529807972919\n",
      "1731.6966312892248\n",
      "327.3971681319338\n",
      "796.2518783901527\n",
      "1672.6570011431093\n",
      "1096.4127372709165\n",
      "1732.555638073837\n",
      "624.7141001927921\n",
      "1615.7800506495887\n",
      "1643.0629881403872\n",
      "1576.8305579520388\n",
      "1324.552739096472\n",
      "1528.6864091648729\n",
      "1867.2827582053858\n",
      "1364.0326549883723\n",
      "1286.0099407417654\n",
      "1508.750697260256\n",
      "1287.1148712632867\n",
      "797.1769433032696\n",
      "376.50022581078946\n",
      "1050.0378963266282\n",
      "1491.4685231185606\n",
      "791.0982489096316\n",
      "689.7716817908762\n",
      "963.1432194921481\n",
      "1446.7373326774414\n",
      "1078.0002108281544\n",
      "1839.2691871200393\n",
      "821.2245870540505\n",
      "1467.690141656349\n",
      "1131.153522949301\n",
      "467.03895330732536\n",
      "1590.0401084106306\n",
      "1617.9086819596228\n",
      "1006.194887700988\n",
      "1277.5744974078675\n",
      "1346.512790564873\n",
      "1602.0700836135015\n",
      "1761.8264837590318\n",
      "232.15351109862718\n",
      "512.1399912408219\n",
      "1391.8540842034704\n",
      "1412.2588647529224\n",
      "1791.5145386303636\n",
      "971.1374800142202\n",
      "1396.0396452965301\n",
      "1208.2658891236038\n",
      "1767.1253156813787\n",
      "1260.8711447862793\n",
      "1493.3079226282273\n",
      "1412.9412614161995\n",
      "847.2236546033771\n",
      "1690.063589469598\n",
      "1675.7901457500395\n",
      "361.99181311921626\n",
      "1841.5982941651448\n",
      "1372.3849877530122\n",
      "1142.4637730510617\n",
      "413.6563052728293\n",
      "1319.5144361663004\n",
      "627.9255330420574\n",
      "1410.895022886421\n",
      "1576.6173504535752\n",
      "1671.991931311996\n",
      "1383.7843726162462\n",
      "629.8947426467963\n",
      "1756.4145774616563\n",
      "1499.8802213537751\n",
      "1473.0245441593493\n",
      "1704.5567237578414\n",
      "1648.5187844311833\n",
      "364.6957774967298\n",
      "1631.5075083956228\n",
      "232.27181416515404\n",
      "811.1791022576906\n",
      "194.56881063048428\n",
      "1266.1012341565997\n",
      "232.69821408298958\n",
      "1133.5244362317474\n",
      "826.4797645917556\n",
      "1027.754750907114\n",
      "352.9936907511165\n",
      "813.5353600048579\n",
      "730.36131741762\n",
      "1069.2705252221301\n",
      "599.361427222856\n",
      "1475.0752915334076\n",
      "1732.1848412919435\n",
      "1435.8743821329906\n",
      "1512.8980275452122\n",
      "1746.6049386641532\n",
      "1395.0298182663428\n",
      "1687.56032402976\n",
      "611.8146978192941\n",
      "1819.4419576925293\n",
      "709.3972341360108\n",
      "1654.112633849716\n",
      "1683.7421175328961\n",
      "800.1283598033538\n",
      "1359.4536709010993\n",
      "1420.4270278318725\n",
      "337.7355683658811\n",
      "1600.3644166819352\n",
      "430.05546582505286\n",
      "1016.8418449209438\n",
      "1512.5882979347398\n",
      "1551.7726099365238\n",
      "1584.708788794768\n",
      "1531.6143384382765\n",
      "1702.1581781831487\n",
      "1682.6242554820158\n",
      "1304.9509428302708\n",
      "1258.4697516300803\n",
      "1523.8426864746173\n",
      "1615.1414821067613\n",
      "1561.036170562565\n",
      "1430.681228888679\n",
      "1757.4577026866768\n",
      "1579.7301581221982\n",
      "1264.4346711099126\n",
      "1795.0917134767549\n",
      "220.4812407635418\n",
      "1569.0141636035119\n",
      "408.0440439268718\n",
      "1784.09071486411\n",
      "1651.0870188388055\n",
      "1658.9376951900936\n",
      "1467.8380043693262\n",
      "1901.4053685065112\n",
      "1399.8001710867193\n",
      "1434.9606259763843\n",
      "1652.8100194918097\n",
      "1234.6072786968764\n",
      "1494.764571082423\n",
      "1670.531369681066\n",
      "1952.57462870725\n",
      "1573.7910388866715\n",
      "1609.5879426398765\n",
      "546.6806425677318\n",
      "1889.9100458509483\n",
      "1600.4133832120037\n",
      "1773.0735063157756\n",
      "461.67870969713783\n",
      "1513.330932014924\n",
      "289.0656664462995\n",
      "1544.6124461387885\n",
      "1541.9896535308253\n",
      "1335.6250955209753\n",
      "1605.0967832188935\n",
      "925.7247530882958\n",
      "1065.1611194230252\n",
      "980.9536487470557\n",
      "1476.8981619408305\n",
      "1707.2534945610582\n",
      "1653.9348204063442\n",
      "1579.490044423147\n",
      "667.1219064529165\n",
      "1532.8507681494652\n",
      "186.617628911224\n",
      "1784.5995580310682\n",
      "1159.8255844683647\n",
      "1220.2199002654288\n",
      "1824.733348743836\n",
      "1709.0245427937004\n",
      "524.6642215625075\n",
      "1619.955193402386\n",
      "1804.9764664382044\n",
      "1568.5557974840924\n",
      "1194.676889354985\n",
      "1665.2780129353064\n",
      "1636.2889374703461\n",
      "1595.482495211021\n",
      "1136.6928677512956\n",
      "1580.8722929117073\n",
      "1016.4393263043893\n",
      "1691.2129611484743\n",
      "1567.802058148457\n",
      "1518.2274542841064\n",
      "1395.4300414526558\n",
      "1886.7543650164528\n",
      "1745.762035320712\n",
      "1530.0011512223512\n",
      "1479.3864542782005\n",
      "1534.9072315355854\n",
      "1032.483572034115\n",
      "1438.114356432176\n",
      "387.1004943622959\n",
      "423.25985331311773\n",
      "1505.8108730080144\n",
      "1251.4484846772068\n",
      "525.4463438158562\n",
      "877.7382470714332\n",
      "1244.5928567998776\n",
      "630.1219541278236\n",
      "351.1268268395313\n",
      "1422.8003442171325\n",
      "1187.3037345460627\n",
      "1804.0644672757596\n",
      "1418.797101870768\n",
      "1435.5762377682565\n",
      "1650.0637627646574\n",
      "1670.3080648668192\n",
      "1702.8632372641425\n",
      "1637.4935124905278\n",
      "1526.3524501710758\n",
      "1478.5576717432084\n",
      "1313.5218838038302\n",
      "1592.899102357073\n",
      "1345.8929683138429\n",
      "1692.1534440925154\n",
      "733.1645013523874\n",
      "1771.0411320892517\n",
      "1876.0780076224294\n",
      "715.0315337266353\n",
      "418.1555100462135\n",
      "1570.5945642783377\n",
      "1401.2282235847038\n",
      "1424.4710594495007\n",
      "1519.10530358275\n",
      "1654.9381057292037\n",
      "1573.371579119232\n",
      "724.7722186555292\n",
      "1544.3616939114147\n",
      "1485.128817375521\n",
      "1530.559216185358\n",
      "1586.9233287773382\n",
      "1679.263027016484\n",
      "1100.0748669572617\n",
      "1464.7857114368562\n",
      "679.7980399139318\n",
      "1516.1214585993175\n",
      "1623.9377677750522\n",
      "1680.1197196051269\n",
      "1878.200820173082\n",
      "1201.4749591155298\n",
      "1131.7609234231663\n",
      "1609.4898202581774\n",
      "1822.467820532789\n",
      "338.414611571876\n",
      "1547.3915951817892\n",
      "1689.4847517737792\n",
      "1620.2641851748172\n",
      "1264.5441546085908\n",
      "1662.8792743493616\n",
      "1387.140633128042\n",
      "1793.9401250442472\n",
      "1793.6199861824393\n",
      "1723.0807636565778\n",
      "1667.8805936305134\n",
      "1724.3679930092478\n",
      "1526.1137324313695\n",
      "1236.1887583464982\n",
      "1604.3671233330435\n",
      "604.637447306403\n",
      "435.06104864522854\n",
      "1293.4297265085013\n",
      "1227.8112585015958\n",
      "1485.2081913205188\n",
      "1336.0785857233782\n",
      "1342.8618833367655\n",
      "1397.0896480994295\n",
      "1675.1415965042827\n",
      "746.9054769735322\n",
      "1385.2748331342907\n",
      "1789.8783535172324\n",
      "738.431452951848\n",
      "1615.31164708365\n",
      "594.521815468105\n",
      "1243.5119390154387\n",
      "1246.202595326684\n",
      "390.7194195128731\n",
      "1624.7609274466963\n",
      "636.8968828545072\n",
      "1606.3376988149992\n",
      "1327.3537420197465\n",
      "1485.9676897019597\n",
      "1395.6008464249285\n",
      "1611.5187155483256\n",
      "1471.4252843512475\n",
      "1480.9217589472614\n",
      "1824.472814957328\n",
      "381.8304188797932\n",
      "2721.3398516061457\n",
      "1342.374418237392\n",
      "1643.549496027603\n",
      "1419.8823408983612\n",
      "1373.173623334505\n",
      "1417.2541924976758\n",
      "1797.5300942981787\n",
      "586.102167403816\n",
      "1612.7769039913053\n",
      "1791.7349572205005\n",
      "1560.2540752089883\n",
      "1165.8157628703161\n",
      "1563.8863586104694\n",
      "1721.0145565226364\n",
      "1507.166566908271\n",
      "1259.0325770598392\n",
      "1370.8758775377635\n",
      "1671.7403926195568\n",
      "1103.6050845269303\n",
      "1579.1622360604404\n",
      "1262.7484133384323\n",
      "1443.0343986249707\n",
      "1409.7451013074572\n",
      "1202.559881641313\n",
      "1538.9676644922065\n",
      "1244.4339095534267\n",
      "337.6039042103408\n",
      "1588.5480475834422\n",
      "956.8725556387417\n",
      "1504.6949043104\n",
      "817.6189395464597\n",
      "598.0470633477029\n",
      "1583.8287543627684\n",
      "1455.5547472609892\n",
      "1285.9156043119974\n",
      "1487.543420146641\n",
      "1514.853566749369\n",
      "430.04197596498017\n",
      "419.50513403170356\n",
      "1211.6066045191658\n",
      "1303.9286192145933\n",
      "1567.5421028249104\n",
      "1023.9234039368648\n",
      "1885.5947537308732\n",
      "1850.761785860712\n",
      "1610.370144208396\n",
      "1738.5691861380462\n",
      "1116.410053553966\n",
      "1150.6748061446935\n",
      "1658.6410986086987\n",
      "1308.6678774001339\n",
      "1264.1442874775255\n",
      "1214.9121034093987\n",
      "1102.4204534242494\n",
      "1666.4203010311892\n",
      "537.3140358146617\n",
      "440.578203917879\n",
      "1445.0925335068546\n",
      "1492.8869358564168\n",
      "1858.0601603246614\n",
      "1047.1222633918296\n",
      "1708.0484945729268\n",
      "1394.4482943805835\n",
      "1798.3283145076555\n",
      "1920.5513301767774\n",
      "1384.7688283105351\n",
      "1558.9979793704608\n",
      "1432.3993094038228\n",
      "1580.2396689784935\n",
      "1585.0180898771698\n",
      "1590.4411933500398\n",
      "1326.4351242281382\n",
      "482.6171708259695\n",
      "1742.4240267774721\n",
      "379.0445936624331\n",
      "1352.6904862036704\n",
      "1651.8116101633732\n",
      "1962.9414696955735\n",
      "1989.1649517843216\n",
      "1681.2015009348547\n",
      "1267.439992531742\n",
      "1247.393057295781\n",
      "1474.3239157442238\n",
      "1403.1670839815336\n",
      "1367.2162825451935\n",
      "1778.6695583429375\n",
      "1805.9473420991717\n",
      "1812.7077815886548\n",
      "1651.4772011375521\n",
      "1739.2429219875346\n",
      "1710.1371115382858\n",
      "1517.1882094063058\n",
      "1884.2510544814697\n",
      "1514.264808964937\n",
      "1805.2249784744104\n",
      "1818.1902806051426\n",
      "1848.65009159298\n",
      "1340.1449616176915\n",
      "1666.0316540130646\n",
      "1380.8231864286222\n",
      "1704.5681281169525\n",
      "1149.4749528603186\n",
      "402.14884244553946\n",
      "479.0903913110727\n",
      "393.98558653481234\n",
      "914.6951476975435\n",
      "338.4894390863915\n",
      "1943.3045647498548\n"
     ]
    }
   ],
   "source": [
    "# Example of calculating Euclidean distance\n",
    "from math import sqrt\n",
    " \n",
    "# calculate the Euclidean distance between two \n",
    "# Euclidean Distance = sqrt(sum i to N (x1_i – x2_i)^2)\n",
    "def euclidean_distance(row1, row2):\n",
    "    distance = 0.0\n",
    "    for i in range(len(row1)-1):\n",
    "        distance += (row1[i] - row2[i])**2\n",
    "    return sqrt(distance)\n",
    "\n",
    "row0 = dataset[0]\n",
    "for row in dataset:\n",
    "    distance = euclidean_distance(row0, row)\n",
    "    print(distance)"
   ]
  },
  {
   "cell_type": "code",
   "execution_count": 10,
   "metadata": {},
   "outputs": [],
   "source": [
    "# Locate the most similar neighbors\n",
    "def get_neighbors(train, test_row, num_neighbors):\n",
    "    distances = list()\n",
    "    for train_row in train:\n",
    "        dist = euclidean_distance(test_row, train_row)\n",
    "        distances.append((train_row, dist))\n",
    "    distances.sort(key=lambda tup: tup[1])\n",
    "    # The list of train_row and distance tuples is sorted where a \n",
    "    # custom key is used ensuring that the second item in the tuple \n",
    "    # (tup[1]) is used in the sorting operation.\n",
    "    neighbors = list()\n",
    "    for i in range(num_neighbors):\n",
    "        neighbors.append(distances[i][0])\n",
    "    return neighbors"
   ]
  },
  {
   "cell_type": "code",
   "execution_count": 11,
   "metadata": {},
   "outputs": [
    {
     "name": "stdout",
     "output_type": "stream",
     "text": [
      "[2.029e+01 1.434e+01 1.351e+02 1.297e+03 1.003e-01 1.328e-01 1.980e-01\n",
      " 1.043e-01 1.809e-01 5.883e-02 7.572e-01 7.813e-01 5.438e+00 9.444e+01\n",
      " 1.149e-02 2.461e-02 5.688e-02 1.885e-02 1.756e-02 5.115e-03 2.254e+01\n",
      " 1.667e+01 1.522e+02 1.575e+03 1.374e-01 2.050e-01 4.000e-01 1.625e-01\n",
      " 2.364e-01 7.678e-02]\n",
      "[2.047e+01 2.067e+01 1.347e+02 1.299e+03 9.156e-02 1.313e-01 1.523e-01\n",
      " 1.015e-01 2.166e-01 5.419e-02 8.336e-01 1.736e+00 5.168e+00 1.004e+02\n",
      " 4.938e-03 3.089e-02 4.093e-02 1.699e-02 2.816e-02 2.719e-03 2.323e+01\n",
      " 2.715e+01 1.520e+02 1.645e+03 1.097e-01 2.534e-01 3.092e-01 1.613e-01\n",
      " 3.220e-01 6.386e-02]\n",
      "[2.018e+01 2.397e+01 1.437e+02 1.245e+03 1.286e-01 3.454e-01 3.754e-01\n",
      " 1.604e-01 2.906e-01 8.142e-02 9.317e-01 1.885e+00 8.649e+00 1.164e+02\n",
      " 1.038e-02 6.835e-02 1.091e-01 2.593e-02 7.895e-02 5.987e-03 2.337e+01\n",
      " 3.172e+01 1.703e+02 1.623e+03 1.639e-01 6.164e-01 7.681e-01 2.508e-01\n",
      " 5.440e-01 9.964e-02]\n"
     ]
    }
   ],
   "source": [
    "neighbors = get_neighbors(dataset, dataset[4], 3)\n",
    "for neighbor in neighbors:\n",
    "    print(neighbor)"
   ]
  },
  {
   "cell_type": "code",
   "execution_count": 12,
   "metadata": {},
   "outputs": [],
   "source": [
    "# Make a classification prediction with neighbors\n",
    "def predict_classification(train, test_row, num_neighbors):\n",
    "    neighbors = get_neighbors(train, test_row, num_neighbors)\n",
    "    output_values = [row[-1] for row in neighbors]\n",
    "    prediction = max(set(output_values), key=output_values.count)\n",
    "    return prediction"
   ]
  },
  {
   "cell_type": "code",
   "execution_count": 101,
   "metadata": {},
   "outputs": [],
   "source": [
    "# prediction = predict_classification(dataset, dataset[5], 3)\n",
    "# print('Expected %d, Got %d.' % (dataset[5][-1], prediction))"
   ]
  },
  {
   "cell_type": "code",
   "execution_count": 39,
   "metadata": {},
   "outputs": [],
   "source": [
    "# Scale\n",
    "def scale(X):\n",
    "    X_scaled = X - np.mean(X, axis=0)\n",
    "    return X_scaled / np.std(X, axis=0)"
   ]
  },
  {
   "cell_type": "code",
   "execution_count": 19,
   "metadata": {},
   "outputs": [],
   "source": [
    "def euclidean_distance(row1, row2):\n",
    "    return np.sqrt(np.sum((row1 - row2) ** 2))"
   ]
  },
  {
   "cell_type": "code",
   "execution_count": 41,
   "metadata": {},
   "outputs": [],
   "source": [
    "class KNN():\n",
    "    \n",
    "    def __init__(self, target_classes):\n",
    "        self.target_classes= target_classes\n",
    "        \n",
    "    def fit_(self, x_train, y_train):\n",
    "        self.X_train = x_train\n",
    "        self.y_train = y_train\n",
    "        \n",
    "    def euclidean_distance(self, row1, row2):\n",
    "        return np.sqrt(np.sum((row1 - row2) ** 2))\n",
    "    \n",
    "        # StandartScaler    \n",
    "    def fit(self, X):\n",
    "        self.mean_X = np.mean(X, axis=0)\n",
    "        self.scale_X = np.std(X - self.mean_X, axis=0)\n",
    "        return self\n",
    "    \n",
    "    def transform(self, X):\n",
    "        return (X - self.mean_X) / self.scale_X\n",
    "    \n",
    "    def fit_transform(self, X):\n",
    "        return self.fit(X).transform(X)\n",
    "    \n",
    "\n",
    "    def predict(self, X_test):\n",
    "        y = np.zeros(len(X_test))\n",
    "    \n",
    "        # iterate through the test set\n",
    "        for ii in range(len(X_test)):\n",
    "        \n",
    "            # calculate the distance between the test points and all other points in the training set\n",
    "            distance = np.array([self.euclidean_distance(X_test[ii], x_point) for x_point in self.X_train])\n",
    "        \n",
    "            # sorts index from ascending to descending order of target classes\n",
    "            distance_sorted = distance.argsort()[:self.target_classes]\n",
    "\n",
    "            # for each neighbor find the target_class\n",
    "            nearest_label = [self.y_train[ii] for ii in distance_sorted]\n",
    "        \n",
    "            y[ii] = max(set(nearest_label), key = nearest_label.count)\n",
    "\n",
    "\n",
    "        return y\n",
    "\n",
    "    def accuracy(self, y_test, y_pred):\n",
    "        return f'Accuracy score: {np.mean(y_test==y_pred)}'"
   ]
  },
  {
   "cell_type": "code",
   "execution_count": 42,
   "metadata": {},
   "outputs": [],
   "source": [
    "from sklearn.model_selection import train_test_split\n",
    "X_train, X_test, y_train, y_test = train_test_split(dataset, target,\n",
    "                                                    test_size = 0.30, random_state=6)\n"
   ]
  },
  {
   "cell_type": "code",
   "execution_count": 43,
   "metadata": {},
   "outputs": [
    {
     "name": "stdout",
     "output_type": "stream",
     "text": [
      "398 171 398 171\n"
     ]
    }
   ],
   "source": [
    "print(len(X_train), len(X_test), len(y_train), len(y_test))"
   ]
  },
  {
   "cell_type": "code",
   "execution_count": 44,
   "metadata": {},
   "outputs": [],
   "source": [
    "knn = KNN(target_classes=2)"
   ]
  },
  {
   "cell_type": "code",
   "execution_count": 45,
   "metadata": {},
   "outputs": [],
   "source": [
    "X_train_scaled = knn.fit_transform(X_train)\n",
    "X_test_scaled = knn.fit_transform(X_test)"
   ]
  },
  {
   "cell_type": "code",
   "execution_count": 46,
   "metadata": {},
   "outputs": [],
   "source": [
    "# Fitting the data\n",
    "knn.fit_(X_train_scaled, y_train)"
   ]
  },
  {
   "cell_type": "code",
   "execution_count": 47,
   "metadata": {},
   "outputs": [],
   "source": [
    "# predicting on data\n",
    "predictions = knn.predict(X_test_scaled)"
   ]
  },
  {
   "cell_type": "code",
   "execution_count": 48,
   "metadata": {},
   "outputs": [
    {
     "data": {
      "text/plain": [
       "'Accuracy score: 0.9766081871345029'"
      ]
     },
     "execution_count": 48,
     "metadata": {},
     "output_type": "execute_result"
    }
   ],
   "source": [
    "# Calculating Accuracy\n",
    "knn.accuracy(y_test, predictions)"
   ]
  },
  {
   "cell_type": "code",
   "execution_count": 49,
   "metadata": {},
   "outputs": [
    {
     "name": "stdout",
     "output_type": "stream",
     "text": [
      "Original value: 1, Predicted value: 1.\n"
     ]
    }
   ],
   "source": [
    "print('Original value: %d, Predicted value: %d.' % (y_test[10], predictions[10]))"
   ]
  },
  {
   "cell_type": "code",
   "execution_count": 50,
   "metadata": {},
   "outputs": [],
   "source": [
    "from sklearn.metrics import classification_report\n",
    "\n",
    "from sklearn.metrics import confusion_matrix, ConfusionMatrixDisplay"
   ]
  },
  {
   "cell_type": "code",
   "execution_count": 51,
   "metadata": {},
   "outputs": [
    {
     "name": "stdout",
     "output_type": "stream",
     "text": [
      "              precision    recall  f1-score   support\n",
      "\n",
      "   malignant       0.99      0.96      0.97        74\n",
      "      benign       0.97      0.99      0.98        97\n",
      "\n",
      "    accuracy                           0.98       171\n",
      "   macro avg       0.98      0.97      0.98       171\n",
      "weighted avg       0.98      0.98      0.98       171\n",
      "\n"
     ]
    }
   ],
   "source": [
    "print(classification_report(y_test, predictions, target_names=df['target_names']))"
   ]
  },
  {
   "cell_type": "code",
   "execution_count": 52,
   "metadata": {},
   "outputs": [],
   "source": [
    "import seaborn as sns"
   ]
  },
  {
   "cell_type": "code",
   "execution_count": 53,
   "metadata": {},
   "outputs": [],
   "source": [
    "import pandas as pd"
   ]
  },
  {
   "cell_type": "code",
   "execution_count": 54,
   "metadata": {},
   "outputs": [],
   "source": [
    "heat = classification_report(y_test, predictions, target_names=df['target_names'],\n",
    "                     output_dict=True)"
   ]
  },
  {
   "cell_type": "code",
   "execution_count": 55,
   "metadata": {},
   "outputs": [
    {
     "data": {
      "image/png": "[encoded data removed]",
      "text/plain": [
       "<Figure size 432x288 with 2 Axes>"
      ]
     },
     "metadata": {
      "needs_background": "light"
     },
     "output_type": "display_data"
    }
   ],
   "source": [
    "sns.heatmap(pd.DataFrame(heat).iloc[0:3, :].T, annot=True);"
   ]
  },
  {
   "cell_type": "code",
   "execution_count": 56,
   "metadata": {},
   "outputs": [
    {
     "name": "stdout",
     "output_type": "stream",
     "text": [
      "[[71  3]\n",
      " [ 1 96]]\n"
     ]
    }
   ],
   "source": [
    "print(confusion_matrix(y_test, predictions))"
   ]
  },
  {
   "cell_type": "code",
   "execution_count": 57,
   "metadata": {},
   "outputs": [
    {
     "data": {
      "image/png": "[encoded data removed]",
      "text/plain": [
       "<Figure size 432x288 with 2 Axes>"
      ]
     },
     "metadata": {
      "needs_background": "light"
     },
     "output_type": "display_data"
    }
   ],
   "source": [
    "cm = confusion_matrix(y_test, predictions)  #, normalize='all')\n",
    "cmd = ConfusionMatrixDisplay(cm, display_labels=['malignant', 'benign'])\n",
    "cmd.plot();"
   ]
  },
  {
   "cell_type": "markdown",
   "metadata": {},
   "source": [
    "# Extra"
   ]
  },
  {
   "cell_type": "code",
   "execution_count": 59,
   "metadata": {},
   "outputs": [
    {
     "data": {
      "image/png": "[encoded data removed]",
      "text/plain": [
       "<Figure size 432x288 with 1 Axes>"
      ]
     },
     "metadata": {
      "needs_background": "light"
     },
     "output_type": "display_data"
    }
   ],
   "source": [
    "import matplotlib.pyplot as plt\n",
    "from sklearn.datasets.samples_generator import make_blobs\n",
    "\n",
    "# Create dataframe of x, y and label values\n",
    "dataset_scaled = knn.fit_transform(dataset)\n",
    "y = df['target']\n",
    "\n",
    "\n",
    "df = pd.DataFrame(dict(x=dataset_scaled[:,0], y=dataset_scaled[:,1], label=y))\n",
    "\n",
    "# Create scatterplot with coloring based on assigned labels\n",
    "colors = {0:'red', 1:'blue'}\n",
    "\n",
    "fig, ax = plt.subplots()\n",
    "grouped = df.groupby('label')\n",
    "for key, group in grouped:\n",
    "    group.plot(ax=ax, kind='scatter', x='x', y='y', label=key, color=colors[key])\n",
    "plt.grid(True)\n",
    "plt.show()  "
   ]
  },
  {
   "cell_type": "code",
   "execution_count": 100,
   "metadata": {},
   "outputs": [
    {
     "data": {
      "text/html": [
       "<div>\n",
       "<style scoped>\n",
       "    .dataframe tbody tr th:only-of-type {\n",
       "        vertical-align: middle;\n",
       "    }\n",
       "\n",
       "    .dataframe tbody tr th {\n",
       "        vertical-align: top;\n",
       "    }\n",
       "\n",
       "    .dataframe thead th {\n",
       "        text-align: right;\n",
       "    }\n",
       "</style>\n",
       "<table border=\"1\" class=\"dataframe\">\n",
       "  <thead>\n",
       "    <tr style=\"text-align: right;\">\n",
       "      <th></th>\n",
       "      <th>x</th>\n",
       "      <th>y</th>\n",
       "      <th>label</th>\n",
       "    </tr>\n",
       "  </thead>\n",
       "  <tbody>\n",
       "    <tr>\n",
       "      <th>0</th>\n",
       "      <td>1.097064</td>\n",
       "      <td>-2.073335</td>\n",
       "      <td>0</td>\n",
       "    </tr>\n",
       "    <tr>\n",
       "      <th>1</th>\n",
       "      <td>1.829821</td>\n",
       "      <td>-0.353632</td>\n",
       "      <td>0</td>\n",
       "    </tr>\n",
       "    <tr>\n",
       "      <th>2</th>\n",
       "      <td>1.579888</td>\n",
       "      <td>0.456187</td>\n",
       "      <td>0</td>\n",
       "    </tr>\n",
       "    <tr>\n",
       "      <th>3</th>\n",
       "      <td>-0.768909</td>\n",
       "      <td>0.253732</td>\n",
       "      <td>0</td>\n",
       "    </tr>\n",
       "    <tr>\n",
       "      <th>4</th>\n",
       "      <td>1.750297</td>\n",
       "      <td>-1.151816</td>\n",
       "      <td>0</td>\n",
       "    </tr>\n",
       "  </tbody>\n",
       "</table>\n",
       "</div>"
      ],
      "text/plain": [
       "          x         y  label\n",
       "0  1.097064 -2.073335      0\n",
       "1  1.829821 -0.353632      0\n",
       "2  1.579888  0.456187      0\n",
       "3 -0.768909  0.253732      0\n",
       "4  1.750297 -1.151816      0"
      ]
     },
     "execution_count": 100,
     "metadata": {},
     "output_type": "execute_result"
    }
   ],
   "source": [
    "df.head()"
   ]
  },
  {
   "cell_type": "code",
   "execution_count": 104,
   "metadata": {},
   "outputs": [
    {
     "data": {
      "text/plain": [
       "(-2.229248512170398, 4.651888980771188)"
      ]
     },
     "execution_count": 104,
     "metadata": {},
     "output_type": "execute_result"
    }
   ],
   "source": [
    "df['y'].min(), df['y'].max()"
   ]
  },
  {
   "cell_type": "code",
   "execution_count": null,
   "metadata": {},
   "outputs": [],
   "source": []
  }
 ],
 "metadata": {
  "kernelspec": {
   "display_name": "Python 3.7.5 64-bit ('Unit_2_Linear_Models': conda)",
   "language": "python",
   "name": "python37564bitunit2linearmodelsconda4ddc633d733a4999941ddee73d4778c5"
  },
  "language_info": {
   "codemirror_mode": {
    "name": "ipython",
    "version": 3
   },
   "file_extension": ".py",
   "mimetype": "text/x-python",
   "name": "python",
   "nbconvert_exporter": "python",
   "pygments_lexer": "ipython3",
   "version": "3.7.8"
  },
  "toc": {
   "base_numbering": 1,
   "nav_menu": {},
   "number_sections": true,
   "sideBar": true,
   "skip_h1_title": false,
   "title_cell": "Table of Contents",
   "title_sidebar": "Contents",
   "toc_cell": false,
   "toc_position": {},
   "toc_section_display": true,
   "toc_window_display": false
  },
  "varInspector": {
   "cols": {
    "lenName": 16,
    "lenType": 16,
    "lenVar": 40
   },
   "kernels_config": {
    "python": {
     "delete_cmd_postfix": "",
     "delete_cmd_prefix": "del ",
     "library": "var_list.py",
     "varRefreshCmd": "print(var_dic_list())"
    },
    "r": {
     "delete_cmd_postfix": ") ",
     "delete_cmd_prefix": "rm(",
     "library": "var_list.r",
     "varRefreshCmd": "cat(var_dic_list()) "
    }
   },
   "types_to_exclude": [
    "module",
    "function",
    "builtin_function_or_method",
    "instance",
    "_Feature"
   ],
   "window_display": false
  }
 },
 "nbformat": 4,
 "nbformat_minor": 4
}
